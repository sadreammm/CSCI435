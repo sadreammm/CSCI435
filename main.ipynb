{
 "cells": [
  {
   "cell_type": "code",
   "execution_count": 9,
   "id": "ea705bdd",
   "metadata": {},
   "outputs": [],
   "source": [
    "import cv2\n",
    "import face_recognition\n",
    "import numpy as np\n",
    "import os\n",
    "import matplotlib.pyplot as plt"
   ]
  },
  {
   "cell_type": "markdown",
   "id": "020b9408",
   "metadata": {},
   "source": [
    "**Face Recognition**"
   ]
  },
  {
   "cell_type": "code",
   "execution_count": 24,
   "id": "af983e10",
   "metadata": {},
   "outputs": [],
   "source": [
    "face_cascade = cv2.CascadeClassifier(\"haarcascade_frontalface_default.xml\")"
   ]
  },
  {
   "cell_type": "markdown",
   "id": "eb8f9ea7",
   "metadata": {},
   "source": [
    "Create Encoding of Known Faces"
   ]
  },
  {
   "cell_type": "code",
   "execution_count": 25,
   "id": "f6c04b8c",
   "metadata": {},
   "outputs": [],
   "source": [
    "known_face_encodings = []\n",
    "known_face_names = []\n",
    "\n",
    "path = \"known_faces\"\n",
    "for filename in os.listdir(path):\n",
    "    img_path = os.path.join(path, filename)\n",
    "    name = os.path.splitext(filename)[0]\n",
    "    img = face_recognition.load_image_file(img_path)\n",
    "    encoding = face_recognition.face_encodings(img)\n",
    "    if encoding:\n",
    "        known_face_encodings.append(encoding[0])\n",
    "        known_face_names.append(name)"
   ]
  },
  {
   "cell_type": "markdown",
   "id": "eefee68e",
   "metadata": {},
   "source": [
    "Haar Face Detection"
   ]
  },
  {
   "cell_type": "code",
   "execution_count": 26,
   "id": "c2ef525a",
   "metadata": {},
   "outputs": [],
   "source": [
    "def detect_faces(img):\n",
    "    face_img = img.copy()\n",
    "    face_rects = face_cascade.detectMultiScale(face_img, scaleFactor=1.2, minNeighbors=5)\n",
    "    return face_rects"
   ]
  },
  {
   "cell_type": "markdown",
   "id": "88b67300",
   "metadata": {},
   "source": [
    "face_recognition Library for Recognizing New Faces by Comparing with Known Faces"
   ]
  },
  {
   "cell_type": "code",
   "execution_count": 27,
   "id": "83640e76",
   "metadata": {},
   "outputs": [],
   "source": [
    "def recognize_faces(img, face_rects):\n",
    "    face_img = img.copy()\n",
    "    for (x, y, w, h) in face_rects:\n",
    "        roi = face_img[y:y+h, x:x+w]\n",
    "        rgb_face = cv2.cvtColor(roi, cv2.COLOR_BGR2RGB)\n",
    "        encodings = face_recognition.face_encodings(rgb_face)\n",
    "        name = \"Unknown\"\n",
    "        if encodings:\n",
    "            matches = face_recognition.compare_faces(known_face_encodings, encodings[0])\n",
    "            face_distances = face_recognition.face_distance(known_face_encodings, encodings[0])\n",
    "\n",
    "            if True in matches:\n",
    "                best_match_index = np.argmin(face_distances)\n",
    "                name = known_face_names[best_match_index]\n",
    "        \n",
    "        cv2.rectangle(face_img, (x, y), (x + w, y + h), (0, 255, 0), 2)\n",
    "        cv2.putText(face_img, name, (x, y - 10), cv2.FONT_HERSHEY_SIMPLEX, 0.9, (255, 255, 255), 2)\n",
    "    return face_img"
   ]
  },
  {
   "cell_type": "markdown",
   "id": "bfc6ce39",
   "metadata": {},
   "source": [
    "Main Real-Time Face Recognition"
   ]
  },
  {
   "cell_type": "code",
   "execution_count": 28,
   "id": "70b3eb61",
   "metadata": {},
   "outputs": [],
   "source": [
    "cam = cv2.VideoCapture(0)\n",
    "\n",
    "while True:\n",
    "    ret, frame = cam.read()\n",
    "    if not ret:\n",
    "        break\n",
    "    \n",
    "    face_rects = detect_faces(frame)\n",
    "    result = recognize_faces(frame, face_rects)\n",
    "    cv2.imshow(\"Face Recognition\", result)\n",
    "\n",
    "    if cv2.waitKey(1) & 0xFF == 27:\n",
    "        break\n",
    "\n",
    "cam.release()\n",
    "cv2.destroyAllWindows()\n"
   ]
  },
  {
   "cell_type": "markdown",
   "id": "e2fc4a3f",
   "metadata": {},
   "source": [
    "**Image Quality Assessment**"
   ]
  },
  {
   "cell_type": "code",
   "execution_count": 16,
   "id": "13e3d795",
   "metadata": {},
   "outputs": [],
   "source": [
    "path = \"IQA\""
   ]
  },
  {
   "cell_type": "markdown",
   "id": "7c74f46f",
   "metadata": {},
   "source": [
    "Detect Blur"
   ]
  },
  {
   "cell_type": "code",
   "execution_count": 29,
   "id": "99d908f2",
   "metadata": {},
   "outputs": [],
   "source": [
    "def is_blur(img):\n",
    "    threshold=100\n",
    "    gray = cv2.cvtColor(img, cv2.COLOR_BGR2GRAY)\n",
    "    variance = cv2.Laplacian(gray, cv2.CV_64F).var()\n",
    "    return variance < threshold, variance"
   ]
  },
  {
   "cell_type": "code",
   "execution_count": 30,
   "id": "c2235d89",
   "metadata": {},
   "outputs": [],
   "source": [
    "detect_blur_path = \"IQA/detect_blur\"\n",
    "for filename in os.listdir(detect_blur_path):\n",
    "    img_path = os.path.join(detect_blur_path, filename)\n",
    "    img = cv2.imread(img_path)\n",
    "    text = \"Not Blurry\"\n",
    "    blurred, variance = is_blur(img)\n",
    "    if blurred:\n",
    "        text = \"Blurry\"\n",
    "    \n",
    "    cv2.putText(img, f\"{text}: {variance:.2f}\", (10, 30), cv2.FONT_HERSHEY_SIMPLEX, 1, (0, 0, 255), 2)\n",
    "    cv2.imshow(\"Image Quality Assessment - Blur\", img)\n",
    "    cv2.waitKey(0)\n",
    "    cv2.destroyAllWindows()"
   ]
  },
  {
   "cell_type": "markdown",
   "id": "5a24949f",
   "metadata": {},
   "source": [
    "Detect Exposure"
   ]
  },
  {
   "cell_type": "code",
   "execution_count": 18,
   "id": "fb2800e2",
   "metadata": {},
   "outputs": [],
   "source": [
    "def classify_exposure(image):\n",
    "    gray = cv2.cvtColor(image, cv2.COLOR_BGR2GRAY)\n",
    "    hist = cv2.calcHist([gray], [0], None, [256], [0, 256])\n",
    "    total_pixels = gray.size\n",
    "    dark_pixels = np.sum(hist[:50])\n",
    "    bright_pixels = np.sum(hist[205:])\n",
    "\n",
    "    dark_ratio = dark_pixels / total_pixels\n",
    "    bright_ratio = bright_pixels / total_pixels\n",
    "\n",
    "    if dark_ratio > 0.3:\n",
    "        return \"Underexposed\"\n",
    "    elif bright_ratio > 0.3:\n",
    "        return \"Overexposed\"\n",
    "    else:\n",
    "        return \"Well-exposed\""
   ]
  },
  {
   "cell_type": "code",
   "execution_count": null,
   "id": "a37228d9",
   "metadata": {},
   "outputs": [],
   "source": [
    "detect_exposure_path = \"IQA/detect_exposure\"\n",
    "\n",
    "for filename in os.listdir(detect_exposure_path):\n",
    "    img_path = os.path.join(detect_exposure_path, filename)\n",
    "    img = cv2.imread(img_path)\n",
    "    \n",
    "    exposure = classify_exposure(img)\n",
    "\n",
    "    cv2.putText(img, f\"{exposure}\", (10, 30), cv2.FONT_HERSHEY_SIMPLEX, 1, (0, 0, 255), 2)\n",
    "    cv2.imshow(\"Image Quality Assessment - Exposure\", img)\n",
    "    cv2.waitKey(0)\n",
    "    cv2.destroyAllWindows()"
   ]
  },
  {
   "cell_type": "markdown",
   "id": "ef03ee0f",
   "metadata": {},
   "source": [
    "Detect Contrast"
   ]
  },
  {
   "cell_type": "code",
   "execution_count": null,
   "id": "b8702291",
   "metadata": {},
   "outputs": [],
   "source": [
    "%pip install scikit-image"
   ]
  },
  {
   "cell_type": "code",
   "execution_count": 19,
   "id": "cf189382",
   "metadata": {},
   "outputs": [],
   "source": [
    "from skimage.exposure import is_low_contrast\n",
    "\n",
    "detect_contrast_path = \"IQA/detect_contrast\"\n",
    "for filename in os.listdir(detect_contrast_path):\n",
    "    img_path = os.path.join(detect_contrast_path, filename)\n",
    "    img = cv2.imread(img_path)\n",
    "    gray = cv2.cvtColor(img, cv2.COLOR_BGR2GRAY)\n",
    "\n",
    "    if is_low_contrast(gray, 0.35):\n",
    "        text = \"Low Contrast\"\n",
    "    elif not is_low_contrast(gray, 0.85):\n",
    "        text = \"High Contrast\"\n",
    "    else:\n",
    "        text = \"Normal Contrast\"\n",
    "    \n",
    "    cv2.putText(img, text, (10, 30), cv2.FONT_HERSHEY_SIMPLEX, 1, (0, 0, 255), 2)\n",
    "    cv2.imshow(\"Image Quality Assessment - Contrast\", img)\n",
    "    cv2.waitKey(0)\n",
    "    cv2.destroyAllWindows()"
   ]
  },
  {
   "cell_type": "markdown",
   "id": "a21b0c2d",
   "metadata": {},
   "source": [
    "Detect Noise"
   ]
  },
  {
   "cell_type": "code",
   "execution_count": 20,
   "id": "52420cfa",
   "metadata": {},
   "outputs": [],
   "source": [
    "def detect_noise(img):\n",
    "    gray = cv2.cvtColor(img, cv2.COLOR_BGR2GRAY)\n",
    "    blurred = cv2.GaussianBlur(gray, (5,5), 0)\n",
    "    diff = cv2.absdiff(gray, blurred)\n",
    "\n",
    "    mean, std = np.mean(diff), np.std(diff)\n",
    "\n",
    "    if mean > 10 or std > 20:\n",
    "        return True\n",
    "    return False"
   ]
  },
  {
   "cell_type": "code",
   "execution_count": 42,
   "id": "e9ef89c0",
   "metadata": {},
   "outputs": [],
   "source": [
    "detect_noise_path = \"IQA/detect_noise\"\n",
    "\n",
    "for filename in os.listdir(detect_noise_path):\n",
    "    img_path = os.path.join(detect_noise_path, filename)\n",
    "    img = cv2.imread(img_path)\n",
    "    noise_detected = detect_noise(img)\n",
    "\n",
    "    if noise_detected:\n",
    "        text = \"Noisy\"\n",
    "    else:\n",
    "        text = \"Not Noisy\"\n",
    "    \n",
    "    cv2.putText(img, text, (10, 30), cv2.FONT_HERSHEY_SIMPLEX, 1, (0, 0, 255), 2)\n",
    "    cv2.imshow(\"Image Quality Assessment - Noise\", img)\n",
    "    cv2.waitKey(0)\n",
    "    cv2.destroyAllWindows()"
   ]
  },
  {
   "cell_type": "markdown",
   "id": "9d0092f9",
   "metadata": {},
   "source": [
    "**Annotation Capability**"
   ]
  },
  {
   "cell_type": "markdown",
   "id": "05bfea73",
   "metadata": {},
   "source": [
    "Drawing Rectangle"
   ]
  },
  {
   "cell_type": "code",
   "execution_count": 31,
   "id": "0765c77d",
   "metadata": {},
   "outputs": [],
   "source": [
    "def draw_rectangle(event, x, y, flags, param):\n",
    "    global drawing, start_x, start_y\n",
    "\n",
    "    if event == cv2.EVENT_LBUTTONDOWN:\n",
    "        drawing = True\n",
    "        start_x, start_y = x, y\n",
    "    elif event == cv2.EVENT_MOUSEMOVE:\n",
    "        if drawing:\n",
    "            img_copy = img.copy()\n",
    "            cv2.rectangle(img_copy, (start_x, start_y), (x, y), (0, 255, 0), 2)\n",
    "            cv2.imshow(\"image\", img_copy)\n",
    "    elif event == cv2.EVENT_LBUTTONUP:\n",
    "        drawing = False\n",
    "        cv2.rectangle(img, (start_x, start_y), (x, y), (0, 255, 0), 2)\n",
    "        cv2.imshow(\"image\", img)"
   ]
  },
  {
   "cell_type": "markdown",
   "id": "99ad2b96",
   "metadata": {},
   "source": [
    "Drawing Circle"
   ]
  },
  {
   "cell_type": "code",
   "execution_count": 32,
   "id": "a9fa9230",
   "metadata": {},
   "outputs": [],
   "source": [
    "def draw_circle(event, x, y, flags, param):\n",
    "    global drawing, start_x, start_y\n",
    "\n",
    "    if event == cv2.EVENT_LBUTTONDOWN:\n",
    "        drawing = True\n",
    "        start_x, start_y = x, y\n",
    "    elif event == cv2.EVENT_MOUSEMOVE:\n",
    "        if drawing:\n",
    "            img_copy = img.copy()\n",
    "            center_x = (start_x + x) // 2\n",
    "            center_y = (start_y + y) // 2\n",
    "            radius = int(0.5 * np.sqrt((x - start_x)**2 + (y - start_y)**2))\n",
    "            cv2.circle(img_copy, (center_x, center_y), radius, (0, 0, 255), 2)\n",
    "            cv2.imshow(\"image\", img_copy)\n",
    "    elif event == cv2.EVENT_LBUTTONUP:\n",
    "        drawing = False\n",
    "        center_x = (start_x + x) // 2\n",
    "        center_y = (start_y + y) // 2\n",
    "        radius = int(0.5 * np.sqrt((x - start_x)**2 + (y - start_y)**2))\n",
    "        cv2.circle(img, (center_x, center_y), radius, (0, 0, 255), 2)\n",
    "        cv2.imshow(\"image\", img)"
   ]
  },
  {
   "cell_type": "markdown",
   "id": "894fecd6",
   "metadata": {},
   "source": [
    "Drawing Line"
   ]
  },
  {
   "cell_type": "code",
   "execution_count": 33,
   "id": "98988a4a",
   "metadata": {},
   "outputs": [],
   "source": [
    "def draw_line(event, x, y, flags, parmas):\n",
    "    global drawing, start_x, start_y\n",
    "\n",
    "    if event == cv2.EVENT_LBUTTONDOWN:\n",
    "        drawing = True\n",
    "        start_x, start_y = x, y\n",
    "    elif event == cv2.EVENT_MOUSEMOVE:\n",
    "        if drawing:\n",
    "            img_copy = img.copy()\n",
    "            cv2.line(img_copy, (start_x, start_y), (x, y), (255, 0, 0), 2)\n",
    "            cv2.imshow(\"image\", img_copy)\n",
    "    elif event == cv2.EVENT_LBUTTONUP:\n",
    "        drawing = False\n",
    "        cv2.line(img, (start_x, start_y), (x, y), (255, 0, 0), 2)\n",
    "        cv2.imshow(\"image\", img)"
   ]
  },
  {
   "cell_type": "markdown",
   "id": "33920466",
   "metadata": {},
   "source": [
    "Writing Text"
   ]
  },
  {
   "cell_type": "code",
   "execution_count": 34,
   "id": "3b8d5d46",
   "metadata": {},
   "outputs": [],
   "source": [
    "def write_text(event, x, y, flags, param):\n",
    "    global img\n",
    "    if event == cv2.EVENT_LBUTTONDOWN:\n",
    "        text = input(\"Enter text to write: \")\n",
    "        cv2.putText(img, text, (x, y), cv2.FONT_HERSHEY_SIMPLEX, 1, (0, 255, 0), 2)\n",
    "        cv2.imshow(\"image\", img)"
   ]
  },
  {
   "cell_type": "markdown",
   "id": "5493cfad",
   "metadata": {},
   "source": [
    "Main Annotation Logic"
   ]
  },
  {
   "cell_type": "code",
   "execution_count": 35,
   "id": "2e22dfd7",
   "metadata": {},
   "outputs": [],
   "source": [
    "img = cv2.imread(\"known_faces/elon musk.jpg\")\n",
    "shape = int(input(\"Enter shape to draw: \\n1. Circle \\n2. Rectangle \\n3. Line, \\n4. Text \\n5. Exit): \"))\n",
    "\n",
    "drawing = False\n",
    "start_x, start_y = -1, -1\n",
    "\n",
    "if shape == 1:\n",
    "    cv2.namedWindow(\"image\")\n",
    "    cv2.setMouseCallback(\"image\", draw_circle)\n",
    "elif shape == 2:\n",
    "    cv2.namedWindow(\"image\")\n",
    "    cv2.setMouseCallback(\"image\", draw_rectangle)\n",
    "elif shape == 3:\n",
    "    cv2.namedWindow(\"image\")\n",
    "    cv2.setMouseCallback(\"image\", draw_line)\n",
    "elif shape == 4:\n",
    "    cv2.namedWindow(\"image\")\n",
    "    cv2.setMouseCallback(\"image\", write_text)\n",
    "else:\n",
    "    print(\"Exiting...\")\n",
    "    \n",
    "\n",
    "while True:\n",
    "    cv2.imshow(\"image\", img)\n",
    "    if cv2.waitKey(1) & 0xFF == 27:\n",
    "        break\n",
    "\n",
    "cv2.destroyAllWindows()"
   ]
  },
  {
   "cell_type": "code",
   "execution_count": 8,
   "id": "013c2c35",
   "metadata": {},
   "outputs": [
    {
     "name": "stdout",
     "output_type": "stream",
     "text": [
      "Requirement already satisfied: streamlit in c:\\users\\sadum\\appdata\\local\\programs\\python\\python312\\lib\\site-packages (1.42.0)\n",
      "Requirement already satisfied: altair<6,>=4.0 in c:\\users\\sadum\\appdata\\local\\programs\\python\\python312\\lib\\site-packages (from streamlit) (5.5.0)\n",
      "Requirement already satisfied: blinker<2,>=1.0.0 in c:\\users\\sadum\\appdata\\local\\programs\\python\\python312\\lib\\site-packages (from streamlit) (1.9.0)\n",
      "Requirement already satisfied: cachetools<6,>=4.0 in c:\\users\\sadum\\appdata\\local\\programs\\python\\python312\\lib\\site-packages (from streamlit) (5.5.1)\n",
      "Requirement already satisfied: click<9,>=7.0 in c:\\users\\sadum\\appdata\\local\\programs\\python\\python312\\lib\\site-packages (from streamlit) (8.1.8)\n",
      "Requirement already satisfied: numpy<3,>=1.23 in c:\\users\\sadum\\appdata\\local\\programs\\python\\python312\\lib\\site-packages (from streamlit) (1.26.4)\n",
      "Requirement already satisfied: packaging<25,>=20 in c:\\users\\sadum\\appdata\\local\\programs\\python\\python312\\lib\\site-packages (from streamlit) (24.2)\n",
      "Requirement already satisfied: pandas<3,>=1.4.0 in c:\\users\\sadum\\appdata\\local\\programs\\python\\python312\\lib\\site-packages (from streamlit) (2.2.3)\n",
      "Requirement already satisfied: pillow<12,>=7.1.0 in c:\\users\\sadum\\appdata\\local\\programs\\python\\python312\\lib\\site-packages (from streamlit) (11.1.0)\n",
      "Requirement already satisfied: protobuf<6,>=3.20 in c:\\users\\sadum\\appdata\\local\\programs\\python\\python312\\lib\\site-packages (from streamlit) (5.29.3)\n",
      "Requirement already satisfied: pyarrow>=7.0 in c:\\users\\sadum\\appdata\\local\\programs\\python\\python312\\lib\\site-packages (from streamlit) (19.0.0)\n",
      "Requirement already satisfied: requests<3,>=2.27 in c:\\users\\sadum\\appdata\\local\\programs\\python\\python312\\lib\\site-packages (from streamlit) (2.32.3)\n",
      "Requirement already satisfied: rich<14,>=10.14.0 in c:\\users\\sadum\\appdata\\local\\programs\\python\\python312\\lib\\site-packages (from streamlit) (13.9.4)\n",
      "Requirement already satisfied: tenacity<10,>=8.1.0 in c:\\users\\sadum\\appdata\\local\\programs\\python\\python312\\lib\\site-packages (from streamlit) (9.0.0)\n",
      "Requirement already satisfied: toml<2,>=0.10.1 in c:\\users\\sadum\\appdata\\local\\programs\\python\\python312\\lib\\site-packages (from streamlit) (0.10.2)\n",
      "Requirement already satisfied: typing-extensions<5,>=4.4.0 in c:\\users\\sadum\\appdata\\local\\programs\\python\\python312\\lib\\site-packages (from streamlit) (4.12.2)\n",
      "Requirement already satisfied: watchdog<7,>=2.1.5 in c:\\users\\sadum\\appdata\\local\\programs\\python\\python312\\lib\\site-packages (from streamlit) (6.0.0)\n",
      "Requirement already satisfied: gitpython!=3.1.19,<4,>=3.0.7 in c:\\users\\sadum\\appdata\\local\\programs\\python\\python312\\lib\\site-packages (from streamlit) (3.1.44)\n",
      "Requirement already satisfied: pydeck<1,>=0.8.0b4 in c:\\users\\sadum\\appdata\\local\\programs\\python\\python312\\lib\\site-packages (from streamlit) (0.9.1)\n",
      "Requirement already satisfied: tornado<7,>=6.0.3 in c:\\users\\sadum\\appdata\\local\\programs\\python\\python312\\lib\\site-packages (from streamlit) (6.4.2)\n",
      "Requirement already satisfied: jinja2 in c:\\users\\sadum\\appdata\\local\\programs\\python\\python312\\lib\\site-packages (from altair<6,>=4.0->streamlit) (3.1.5)\n",
      "Requirement already satisfied: jsonschema>=3.0 in c:\\users\\sadum\\appdata\\local\\programs\\python\\python312\\lib\\site-packages (from altair<6,>=4.0->streamlit) (4.23.0)\n",
      "Requirement already satisfied: narwhals>=1.14.2 in c:\\users\\sadum\\appdata\\local\\programs\\python\\python312\\lib\\site-packages (from altair<6,>=4.0->streamlit) (1.26.0)\n",
      "Requirement already satisfied: colorama in c:\\users\\sadum\\appdata\\local\\programs\\python\\python312\\lib\\site-packages (from click<9,>=7.0->streamlit) (0.4.6)\n",
      "Requirement already satisfied: gitdb<5,>=4.0.1 in c:\\users\\sadum\\appdata\\local\\programs\\python\\python312\\lib\\site-packages (from gitpython!=3.1.19,<4,>=3.0.7->streamlit) (4.0.12)\n",
      "Requirement already satisfied: python-dateutil>=2.8.2 in c:\\users\\sadum\\appdata\\local\\programs\\python\\python312\\lib\\site-packages (from pandas<3,>=1.4.0->streamlit) (2.9.0.post0)\n",
      "Requirement already satisfied: pytz>=2020.1 in c:\\users\\sadum\\appdata\\local\\programs\\python\\python312\\lib\\site-packages (from pandas<3,>=1.4.0->streamlit) (2025.1)\n",
      "Requirement already satisfied: tzdata>=2022.7 in c:\\users\\sadum\\appdata\\local\\programs\\python\\python312\\lib\\site-packages (from pandas<3,>=1.4.0->streamlit) (2025.1)\n",
      "Requirement already satisfied: charset-normalizer<4,>=2 in c:\\users\\sadum\\appdata\\local\\programs\\python\\python312\\lib\\site-packages (from requests<3,>=2.27->streamlit) (3.4.1)\n",
      "Requirement already satisfied: idna<4,>=2.5 in c:\\users\\sadum\\appdata\\local\\programs\\python\\python312\\lib\\site-packages (from requests<3,>=2.27->streamlit) (3.10)\n",
      "Requirement already satisfied: urllib3<3,>=1.21.1 in c:\\users\\sadum\\appdata\\local\\programs\\python\\python312\\lib\\site-packages (from requests<3,>=2.27->streamlit) (2.3.0)\n",
      "Requirement already satisfied: certifi>=2017.4.17 in c:\\users\\sadum\\appdata\\local\\programs\\python\\python312\\lib\\site-packages (from requests<3,>=2.27->streamlit) (2025.1.31)\n",
      "Requirement already satisfied: markdown-it-py>=2.2.0 in c:\\users\\sadum\\appdata\\local\\programs\\python\\python312\\lib\\site-packages (from rich<14,>=10.14.0->streamlit) (3.0.0)\n",
      "Requirement already satisfied: pygments<3.0.0,>=2.13.0 in c:\\users\\sadum\\appdata\\local\\programs\\python\\python312\\lib\\site-packages (from rich<14,>=10.14.0->streamlit) (2.19.1)\n",
      "Requirement already satisfied: smmap<6,>=3.0.1 in c:\\users\\sadum\\appdata\\local\\programs\\python\\python312\\lib\\site-packages (from gitdb<5,>=4.0.1->gitpython!=3.1.19,<4,>=3.0.7->streamlit) (5.0.2)\n",
      "Requirement already satisfied: MarkupSafe>=2.0 in c:\\users\\sadum\\appdata\\local\\programs\\python\\python312\\lib\\site-packages (from jinja2->altair<6,>=4.0->streamlit) (3.0.2)\n",
      "Requirement already satisfied: attrs>=22.2.0 in c:\\users\\sadum\\appdata\\local\\programs\\python\\python312\\lib\\site-packages (from jsonschema>=3.0->altair<6,>=4.0->streamlit) (25.1.0)\n",
      "Requirement already satisfied: jsonschema-specifications>=2023.03.6 in c:\\users\\sadum\\appdata\\local\\programs\\python\\python312\\lib\\site-packages (from jsonschema>=3.0->altair<6,>=4.0->streamlit) (2024.10.1)\n",
      "Requirement already satisfied: referencing>=0.28.4 in c:\\users\\sadum\\appdata\\local\\programs\\python\\python312\\lib\\site-packages (from jsonschema>=3.0->altair<6,>=4.0->streamlit) (0.36.2)\n",
      "Requirement already satisfied: rpds-py>=0.7.1 in c:\\users\\sadum\\appdata\\local\\programs\\python\\python312\\lib\\site-packages (from jsonschema>=3.0->altair<6,>=4.0->streamlit) (0.22.3)\n",
      "Requirement already satisfied: mdurl~=0.1 in c:\\users\\sadum\\appdata\\local\\programs\\python\\python312\\lib\\site-packages (from markdown-it-py>=2.2.0->rich<14,>=10.14.0->streamlit) (0.1.2)\n",
      "Requirement already satisfied: six>=1.5 in c:\\users\\sadum\\appdata\\local\\programs\\python\\python312\\lib\\site-packages (from python-dateutil>=2.8.2->pandas<3,>=1.4.0->streamlit) (1.17.0)\n",
      "Note: you may need to restart the kernel to use updated packages.\n"
     ]
    },
    {
     "name": "stderr",
     "output_type": "stream",
     "text": [
      "\n",
      "[notice] A new release of pip is available: 25.0.1 -> 25.1.1\n",
      "[notice] To update, run: python.exe -m pip install --upgrade pip\n"
     ]
    }
   ],
   "source": [
    "%pip install streamlit"
   ]
  },
  {
   "cell_type": "code",
   "execution_count": null,
   "id": "52b42533",
   "metadata": {},
   "outputs": [],
   "source": [
    "import streamlit as st\n",
    "\n",
    "st.title(\"🧠 Face Recognition + IQA + Drawing Tool\")\n",
    "\n",
    "option = st.sidebar.selectbox(\"Select Functionality\", [\"Face Recognition\", \"Image Quality Assessment\", \"Draw on Image\"])\n",
    "\n",
    "if option == \"Face Recognition\":\n",
    "    uploaded_file = st.file_uploader(\"Upload Image\", type=[\"jpg\", \"png\"])\n",
    "    if uploaded_file:\n",
    "        file_bytes = np.asarray(bytearray(uploaded_file.read()), dtype=np.uint8)\n",
    "        img = cv2.imdecode(file_bytes, 1)\n",
    "        result = recognize_faces(img.copy())\n",
    "        st.image(cv2.cvtColor(result, cv2.COLOR_BGR2RGB), caption=\"Processed Image\", use_column_width=True)\n",
    "\n",
    "elif option == \"Image Quality Assessment\":\n",
    "    uploaded_file = st.file_uploader(\"Upload Image\", type=[\"jpg\", \"png\"])\n",
    "    if uploaded_file:\n",
    "        file_bytes = np.asarray(bytearray(uploaded_file.read()), dtype=np.uint8)\n",
    "        img = cv2.imdecode(file_bytes, 1)\n",
    "        blurred, var = is_blur(img)\n",
    "        exposure = classify_exposure(img)\n",
    "        contrast = detect_contrast(img)\n",
    "        noisy = detect_noise(img)\n",
    "\n",
    "        st.image(cv2.cvtColor(img, cv2.COLOR_BGR2RGB), caption=\"Uploaded Image\", use_column_width=True)\n",
    "        st.markdown(f\"- **Blur**: {'Blurry' if blurred else 'Not Blurry'} (Variance: {var:.2f})\")\n",
    "        st.markdown(f\"- **Exposure**: {exposure}\")\n",
    "        st.markdown(f\"- **Contrast**: {contrast}\")\n",
    "        st.markdown(f\"- **Noise**: {'Noisy' if noisy else 'Not Noisy'}\")\n",
    "\n",
    "elif option == \"Draw on Image\":\n",
    "    uploaded_file = st.file_uploader(\"Upload Image\", type=[\"jpg\", \"png\"])\n",
    "    draw_shape = st.selectbox(\"Shape\", [\"Rectangle\", \"Circle\", \"Line\", \"Text\"])\n",
    "    if uploaded_file:\n",
    "        file_bytes = np.asarray(bytearray(uploaded_file.read()), dtype=np.uint8)\n",
    "        img = cv2.imdecode(file_bytes, 1)\n",
    "        img_pil = Image.fromarray(cv2.cvtColor(img, cv2.COLOR_BGR2RGB))\n",
    "        st.image(img_pil, caption=\"Image to Draw\", use_column_width=True)\n",
    "        st.info(\"Download the image and use OpenCV GUI for interactive drawing (Streamlit doesn't support drawing canvas natively).\")"
   ]
  }
 ],
 "metadata": {
  "kernelspec": {
   "display_name": "Python 3",
   "language": "python",
   "name": "python3"
  },
  "language_info": {
   "codemirror_mode": {
    "name": "ipython",
    "version": 3
   },
   "file_extension": ".py",
   "mimetype": "text/x-python",
   "name": "python",
   "nbconvert_exporter": "python",
   "pygments_lexer": "ipython3",
   "version": "3.12.1"
  }
 },
 "nbformat": 4,
 "nbformat_minor": 5
}
